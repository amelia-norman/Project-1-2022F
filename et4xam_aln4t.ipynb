{
 "cells": [
  {
   "cell_type": "markdown",
   "id": "5e09d35a",
   "metadata": {},
   "source": [
    "# Project 1: Assembling Genes"
   ]
  },
  {
   "cell_type": "markdown",
   "id": "38472537",
   "metadata": {},
   "source": [
    "   <div class=\"alert alert-block alert-danger\">\n",
    "    <center>Due: <b>Monday, September 5, 8:59pm</b>.</center> \n",
    "   </div>\n",
    "   \n",
    "   <div class=\"alert alert-block alert-warning\">\n",
    "   <center>\n",
    "       <b>Collaboration and Resource Policy</b>\n",
    "    </center>\n",
    "    \n",
    "For this assignment, you are encouraged to work with one other person satisfying the constraints from Class 2. \n",
    "You are permitted (actually _encouraged_) to discuss these problems with anyone you want, including other students in the class. If you do discuss the specific questions in the assignment with anyone other than your assignment partner and the course staff, though, you should list them in the _External resources used_ section below.\n",
    "    \n",
    "You are welcome to use any resources you want for this assignment, other than ones that would defeat the purpose of the assignment. This means you should not look at answers or code from previous semesters of this course, or from any other students in the class (other than your collaboration with your partner), and if you find code that implements the problem you are being asked to do for the assignment, you should not use that code. You should document all external resource you use that are not part of the course materials in the _External resources used_ section below.\n",
    "    </div>"
   ]
  },
  {
   "cell_type": "markdown",
   "id": "616484b7",
   "metadata": {},
   "source": [
    "**Team submitting this assignment:**  \n",
    "<div class=\"alert alert-success\">\n",
    "    <b><em>list each member of your team here, including both your name and UVA computing id</em></b>\n",
    "\n",
    "Team Members (Names): Esha Tulsian and Amelia Norman \n",
    "\n",
    "Team Member UVA Computing IDs: et4xam and aln4t\n",
    "\n",
    "</div>\n",
    "\n",
    "**External resources used:** \n",
    "<div class=\"alert alert-success\">\n",
    "<em>It is not necessary to list the course materials, but if you used any other resources, including discussing problems with students not on your team, list them here.</em>\n",
    "    \n",
    "External Resources Used:\n",
    "\n",
    "Classmates: Wamia Said\n",
    "    \n",
    "(For further clarification of Eulerian paths): https://cp-algorithms.com/graph/euler_path.html#algorithm\n",
    "    \n",
    "(For further clarification of DFS): https://www.programiz.com/dsa/graph-dfs\n",
    "</div> "
   ]
  },
  {
   "cell_type": "markdown",
   "id": "08f325e5",
   "metadata": {},
   "source": [
    "In this project, we will explore genome assembly—the process of determining the order of nucleotides in DNA from fragmented reads. As you might have studied in the reading assignments, genome assembly can get quite complicated, as problems such as full sequence coverage, finding a good length for reads (the $k$ in $k$-mer), and sequencing errors present challenges for sequencing analysis and accuracy. You can assume perfect coverage for all parts of the assignment and no read errors for the first two questions.\n",
    "\n",
    "\n",
    "<b>Submission</b>: Please submit the code you wrote to generate your answers for all parts using this form: <a href=\"https://forms.gle/rNTXfYojTLEQ8idg6\"><em>https://forms.gle/rNTXfYojTLEQ8idg6</em></a>. Your answers should be in the Jupyter Notebook, along with your code. Before submission, you should make a copy of your notebook file with the name <i>uvaid1\\_uvaid2.ipynb</i> (where <i>uvaidn</i> is each teammates UVA id) so the submitted file identifies you. You and your partner should submit a single file once together. Submission is due 8:59 pm (EST) on Monday, September 5."
   ]
  },
  {
   "cell_type": "markdown",
   "id": "1e999a48",
   "metadata": {},
   "source": [
    "## Install basic required packages."
   ]
  },
  {
   "cell_type": "markdown",
   "id": "5e1a4f5d",
   "metadata": {},
   "source": [
    "- Install basic required packages, should be run only once. You may need to restart the kernel after this stage.\n",
    "- Make sure you have [graphviz](https://graphviz.org/download/) installed on your system.\n",
    "- The second cell adds Graphviz to your path, you may have to change based on where the install folder is.\n",
    "\n",
    "<b>NOTE: We provide utils.py, which may contain helpful functions for you to use, as well as gvmagic.py, which is a deprecated package to use graphviz within the notebook</b>"
   ]
  },
  {
   "cell_type": "code",
   "execution_count": 1,
   "id": "33a721e6",
   "metadata": {},
   "outputs": [
    {
     "name": "stdout",
     "output_type": "stream",
     "text": [
      "Requirement already satisfied: numpy in c:\\users\\etuls\\anaconda3\\lib\\site-packages (from -r requirements.txt (line 1)) (1.18.5)\n",
      "Requirement already satisfied: matplotlib in c:\\users\\etuls\\anaconda3\\lib\\site-packages (from -r requirements.txt (line 2)) (3.2.2)\n",
      "Requirement already satisfied: pydot in c:\\users\\etuls\\anaconda3\\lib\\site-packages (from -r requirements.txt (line 3)) (1.4.2)\n",
      "Requirement already satisfied: graphviz in c:\\users\\etuls\\anaconda3\\lib\\site-packages (from -r requirements.txt (line 4)) (0.20.1)\n",
      "Requirement already satisfied: cycler>=0.10 in c:\\users\\etuls\\anaconda3\\lib\\site-packages (from matplotlib->-r requirements.txt (line 2)) (0.10.0)\n",
      "Requirement already satisfied: kiwisolver>=1.0.1 in c:\\users\\etuls\\anaconda3\\lib\\site-packages (from matplotlib->-r requirements.txt (line 2)) (1.2.0)\n",
      "Requirement already satisfied: python-dateutil>=2.1 in c:\\users\\etuls\\anaconda3\\lib\\site-packages (from matplotlib->-r requirements.txt (line 2)) (2.8.1)\n",
      "Requirement already satisfied: pyparsing!=2.0.4,!=2.1.2,!=2.1.6,>=2.0.1 in c:\\users\\etuls\\anaconda3\\lib\\site-packages (from matplotlib->-r requirements.txt (line 2)) (2.4.7)\n",
      "Requirement already satisfied: six in c:\\users\\etuls\\anaconda3\\lib\\site-packages (from cycler>=0.10->matplotlib->-r requirements.txt (line 2)) (1.15.0)\n",
      "Note: you may need to restart the kernel to use updated packages.\n"
     ]
    }
   ],
   "source": [
    "%pip install -r requirements.txt"
   ]
  },
  {
   "cell_type": "code",
   "execution_count": 2,
   "id": "9a251e40",
   "metadata": {},
   "outputs": [],
   "source": [
    "import os\n",
    "os.environ[\"PATH\"] += os.pathsep + 'C:/Program Files/Graphviz/bin'"
   ]
  },
  {
   "cell_type": "markdown",
   "id": "9a3dd4db",
   "metadata": {},
   "source": [
    "## Genome Assembly\n",
    "\n",
    "For this part, you're given reads generated while trying to sequence the DNA of a TeleTubby (some unknown organism) with a \\textit{very} small genetic code. By answering the following questions, you will learn how to assemble the original genome sequence from sequence reads.\n",
    "\n",
    "Sequencing data is often stored in FASTQ file format. In TeleTubby.fastq, you will find the data organized in a particular order that repeats every four lines. The first line contains the metadata that encodes the name of the read, the experiment type, the kind of sequencing machine used, etc. The second line is the sequence of bases. The third line functions as a placeholder line. The fourth line is a sequence of base qualities that encode the qualities for the corresponding bases in the sequence line. We will only work with the sequence and quality score lines in this question."
   ]
  },
  {
   "cell_type": "code",
   "execution_count": 94,
   "id": "e4cdd9da",
   "metadata": {},
   "outputs": [],
   "source": [
    "import collections\n",
    "import matplotlib.pyplot as plt\n",
    "import numpy as np\n",
    "import utils\n",
    "from tqdm import tqdm\n",
    "import pandas as pd\n",
    "import statistics"
   ]
  },
  {
   "cell_type": "markdown",
   "id": "ffd3bfc4",
   "metadata": {},
   "source": [
    "#### Question 1.1.1 GC-content\n",
    "\n",
    "The GC-content (or the ratio of G and C nucleotides) is related to the melting temperature of the DNA double helix. Use the following equation to calculate the melting temperature of DNA for TeleTubby $t_m$ in Celsius:\n",
    "\n",
    "\\begin{equation*}\n",
    "t_m = 64.9+0.41(\\%GC)-\\frac{500}{\\text{length of sequence}}\n",
    "\\end{equation*}\n",
    "\n",
    "As a reference, the human genome is known to have between 35%-60% GC-content. "
   ]
  },
  {
   "cell_type": "code",
   "execution_count": 95,
   "id": "1a3655e0",
   "metadata": {},
   "outputs": [],
   "source": [
    "# Read sequence reads (error-free) from file\n",
    "sequence_reads, qualities = utils.read_fastq('TeleTubby.fastq')\n",
    "tot = len(sequence_reads)\n",
    "\n",
    "# Find total pairs\n",
    "sequences = tot * 8\n",
    "\n",
    "# Find individual pair values\n",
    "vals = []\n",
    "for i in range(tot):   # adds chars from reads to vals\n",
    "    temp = list(sequence_reads[i])\n",
    "    for j in temp:\n",
    "        vals.append(j)"
   ]
  },
  {
   "cell_type": "code",
   "execution_count": 96,
   "id": "70174ae1",
   "metadata": {},
   "outputs": [],
   "source": [
    "# Find # of C--G pairs\n",
    "count = 0\n",
    "for i in range(sequences):\n",
    "    if vals[i] == 'C' or vals[i] == 'G':\n",
    "        count += 1"
   ]
  },
  {
   "cell_type": "code",
   "execution_count": 97,
   "id": "52f5e886",
   "metadata": {},
   "outputs": [
    {
     "name": "stdout",
     "output_type": "stream",
     "text": [
      "47.95221843003413\n"
     ]
    }
   ],
   "source": [
    "# Calculate %GC content\n",
    "GC_pct = (count/sequences)*100   # Evans said whole number was reasonable\n",
    "print(GC_pct)"
   ]
  },
  {
   "cell_type": "code",
   "execution_count": 98,
   "id": "f6f70cdd",
   "metadata": {},
   "outputs": [
    {
     "name": "stdout",
     "output_type": "stream",
     "text": [
      "82.89374288964733\n"
     ]
    }
   ],
   "source": [
    "# Print out temperature in Celsius\n",
    "temp_tt = 64.9 + (0.41*GC_pct) - (500/ 300)   # we were told the assembly length is 300\n",
    "print(temp_tt) # Evans said this temperature output was reasonable"
   ]
  },
  {
   "cell_type": "markdown",
   "id": "51621d15",
   "metadata": {},
   "source": [
    "#### Question 1.1.2 Interpreting quality scores"
   ]
  },
  {
   "cell_type": "markdown",
   "id": "56c8ccc0",
   "metadata": {},
   "source": [
    "Phred33 quality scores are represented as the character with an ASCII code equal to its value + 33 (to make them easy to print alongside genome sequences). List the top 5 most frequent scores in ASCII symbol as well as their Phredd33 scores in TeleTubby.fastq. You can refer to the [official Illumina website](https://support.illumina.com/help/BaseSpace_OLH_009008/Content/Source/Informatics/BS/QualityScoreEncoding_swBS.htm) to reference the scoring encoding.\n",
    "\n",
    "What is the average Phred33 score in TeleTubby.fastq?"
   ]
  },
  {
   "cell_type": "code",
   "execution_count": 99,
   "id": "0601d636",
   "metadata": {},
   "outputs": [],
   "source": [
    "# separate vals\n",
    "scores = []\n",
    "for i in range(tot):   # adds chars from genome to vals\n",
    "    temp = list(qualities[i])\n",
    "    for j in temp:\n",
    "        scores.append(j)\n",
    "        \n",
    "scores_df = pd.DataFrame({\"scores\":scores})   # makes it easier to use functions\n",
    "\n",
    "top_5 = scores_df[\"scores\"].value_counts().head(5).index.values   # automatically sorted in descending order\n",
    "top_5 = [top_5[i][0] for i in range(5)]"
   ]
  },
  {
   "cell_type": "code",
   "execution_count": 100,
   "id": "3aee2c6e",
   "metadata": {},
   "outputs": [],
   "source": [
    "# calculate Phred33 score\n",
    "phred33 = []\n",
    "ascii_score = []\n",
    "# convert ASCII-33\n",
    "for i in top_5:\n",
    "    phred33.append(ord(i)-33)\n",
    "    ascii_score.append(ord(i))"
   ]
  },
  {
   "cell_type": "code",
   "execution_count": 101,
   "id": "90ba27f5",
   "metadata": {},
   "outputs": [
    {
     "data": {
      "text/html": [
       "<div>\n",
       "<style scoped>\n",
       "    .dataframe tbody tr th:only-of-type {\n",
       "        vertical-align: middle;\n",
       "    }\n",
       "\n",
       "    .dataframe tbody tr th {\n",
       "        vertical-align: top;\n",
       "    }\n",
       "\n",
       "    .dataframe thead th {\n",
       "        text-align: right;\n",
       "    }\n",
       "</style>\n",
       "<table border=\"1\" class=\"dataframe\">\n",
       "  <thead>\n",
       "    <tr style=\"text-align: right;\">\n",
       "      <th></th>\n",
       "      <th>ASCII Symbol</th>\n",
       "      <th>ASCII Score</th>\n",
       "      <th>Phred33</th>\n",
       "    </tr>\n",
       "  </thead>\n",
       "  <tbody>\n",
       "    <tr>\n",
       "      <th>0</th>\n",
       "      <td>5</td>\n",
       "      <td>53</td>\n",
       "      <td>20</td>\n",
       "    </tr>\n",
       "    <tr>\n",
       "      <th>1</th>\n",
       "      <td>D</td>\n",
       "      <td>68</td>\n",
       "      <td>35</td>\n",
       "    </tr>\n",
       "    <tr>\n",
       "      <th>2</th>\n",
       "      <td>?</td>\n",
       "      <td>63</td>\n",
       "      <td>30</td>\n",
       "    </tr>\n",
       "    <tr>\n",
       "      <th>3</th>\n",
       "      <td>K</td>\n",
       "      <td>75</td>\n",
       "      <td>42</td>\n",
       "    </tr>\n",
       "    <tr>\n",
       "      <th>4</th>\n",
       "      <td>F</td>\n",
       "      <td>70</td>\n",
       "      <td>37</td>\n",
       "    </tr>\n",
       "  </tbody>\n",
       "</table>\n",
       "</div>"
      ],
      "text/plain": [
       "  ASCII Symbol  ASCII Score  Phred33\n",
       "0            5           53       20\n",
       "1            D           68       35\n",
       "2            ?           63       30\n",
       "3            K           75       42\n",
       "4            F           70       37"
      ]
     },
     "execution_count": 101,
     "metadata": {},
     "output_type": "execute_result"
    }
   ],
   "source": [
    "# Create DF; print ascii and phred33 scores\n",
    "freq_qualities = pd.DataFrame({\"ASCII Symbol\":top_5, \"ASCII Score\": ascii_score,\"Phred33\":phred33})\n",
    "freq_qualities"
   ]
  },
  {
   "cell_type": "code",
   "execution_count": 102,
   "id": "442d41ad",
   "metadata": {},
   "outputs": [
    {
     "data": {
      "text/plain": [
       "34.476535836177476"
      ]
     },
     "execution_count": 102,
     "metadata": {},
     "output_type": "execute_result"
    }
   ],
   "source": [
    "# Calculate average Phred33 scores\n",
    "all_phred33 = []\n",
    "for i in scores:\n",
    "    all_phred33.append(ord(i)-33)\n",
    "mean_phred33 = statistics.mean(all_phred33)\n",
    "mean_phred33"
   ]
  },
  {
   "cell_type": "markdown",
   "id": "e0f34d2d",
   "metadata": {},
   "source": [
    "#### Question 1.1.3 Frequency analysis\n",
    "\n",
    "Looking at repetitions in the sequence can be helpful in estimating the \"redudancy\" in the organisms. Humand and other evolved animals have a lot of redundancy, while smaller organisms like bacteria have highly packed genomes. One heuristic to estimate this before actually performing the assembly could be looking at how often certain $k$-mers are repeated.\n",
    "\n",
    "<b>Print out the 3 most frequent k-mers with their frequencies</b>"
   ]
  },
  {
   "cell_type": "code",
   "execution_count": 103,
   "id": "885e4d80",
   "metadata": {},
   "outputs": [
    {
     "data": {
      "text/html": [
       "<div>\n",
       "<style scoped>\n",
       "    .dataframe tbody tr th:only-of-type {\n",
       "        vertical-align: middle;\n",
       "    }\n",
       "\n",
       "    .dataframe tbody tr th {\n",
       "        vertical-align: top;\n",
       "    }\n",
       "\n",
       "    .dataframe thead th {\n",
       "        text-align: right;\n",
       "    }\n",
       "</style>\n",
       "<table border=\"1\" class=\"dataframe\">\n",
       "  <thead>\n",
       "    <tr style=\"text-align: right;\">\n",
       "      <th></th>\n",
       "      <th>k-mers</th>\n",
       "      <th>Frequency</th>\n",
       "    </tr>\n",
       "  </thead>\n",
       "  <tbody>\n",
       "    <tr>\n",
       "      <th>0</th>\n",
       "      <td>GCTATCGC</td>\n",
       "      <td>3</td>\n",
       "    </tr>\n",
       "    <tr>\n",
       "      <th>1</th>\n",
       "      <td>CGCTATCG</td>\n",
       "      <td>2</td>\n",
       "    </tr>\n",
       "    <tr>\n",
       "      <th>2</th>\n",
       "      <td>TATCGCAA</td>\n",
       "      <td>2</td>\n",
       "    </tr>\n",
       "  </tbody>\n",
       "</table>\n",
       "</div>"
      ],
      "text/plain": [
       "     k-mers  Frequency\n",
       "0  GCTATCGC          3\n",
       "1  CGCTATCG          2\n",
       "2  TATCGCAA          2"
      ]
     },
     "execution_count": 103,
     "metadata": {},
     "output_type": "execute_result"
    }
   ],
   "source": [
    "# pandas again, for the easy peasy value_counts()\n",
    "all_seq = pd.DataFrame({\"kmers\": sequence_reads})\n",
    "top_3 = all_seq[\"kmers\"].value_counts().head(3)\n",
    "top_3_kmers = top_3.index.values\n",
    "top_3_freq = list(top_3)\n",
    "top_kmers = pd.DataFrame({\"k-mers\": top_3_kmers, \"Frequency\": top_3_freq})\n",
    "top_kmers"
   ]
  },
  {
   "cell_type": "markdown",
   "id": "1d14053f",
   "metadata": {},
   "source": [
    "### Question 1.2. Greedy approach"
   ]
  },
  {
   "cell_type": "markdown",
   "id": "8913488a",
   "metadata": {},
   "source": [
    "One of the approaches to assemble the genome from the given reads is a greedy algorithm. Have a look at the greedy algorithm described on [Wikipedia](https://en.wikipedia.org/wiki/Sequence_assembly#Greedy_algorithm) and answer the following."
   ]
  },
  {
   "cell_type": "markdown",
   "id": "1d0c0791",
   "metadata": {},
   "source": [
    "#### Question 1.2.1 What would the runtime be of this algorithm, given $n$ $k$-mer reads?"
   ]
  },
  {
   "cell_type": "markdown",
   "id": "a9181e47",
   "metadata": {},
   "source": [
    "<i>Answer</i>: O(k*n^2)"
   ]
  },
  {
   "cell_type": "markdown",
   "id": "cbb62464",
   "metadata": {},
   "source": [
    "#### Question 1.2.2 Would this algorithm always yield a unique solution?"
   ]
  },
  {
   "cell_type": "markdown",
   "id": "b1196806",
   "metadata": {},
   "source": [
    "<i>Answer</i>: No, the greedy algorithm looks for the optimal solution at any given moment, but that does not always result in unique solutions."
   ]
  },
  {
   "cell_type": "markdown",
   "id": "3f5d3248",
   "metadata": {},
   "source": [
    "#### Question 1.2.3 Would this algorithm always yield the <i>right</i> solution?"
   ]
  },
  {
   "cell_type": "markdown",
   "id": "5d0ee6a7",
   "metadata": {},
   "source": [
    "<i>Answer</i>: No because this algorithm makes decisions based on the local information present at the moment without taking into account the overall or global problem, so it does not always result in the global right solution but does choose the local best solution."
   ]
  },
  {
   "cell_type": "markdown",
   "id": "41fe8e91",
   "metadata": {},
   "source": [
    "### Question 1.3 Graph-based approaches"
   ]
  },
  {
   "cell_type": "markdown",
   "id": "9352b0a8",
   "metadata": {},
   "source": [
    "Graphs for genome assembly can be constructed in two ways:\n",
    "\n",
    "- de Bruijn graph: Processing $(k-1)$mers as nodes, with $k-$mers as edges, and\n",
    "- Overlap graph: Processing $k-$mers as edges, with $(k-1)-$mers as nodes.\n",
    "\n",
    "de Bruijn graphs can be processed to find Euler paths, while Overlap graphs can be processed to find Hamiltonian paths. Both of these are valid ways to reconstruct the original genome.\n",
    "\n",
    "<b>Use one of these two techniques to reconstruct the sequence, and print out your reconstructed sequence. Which method did you pick out of the two, and why? (hint: imagine what would happen when we have millions of reads). Use the k-mers provided in TeleTubby.fastq</b>.\n",
    "\n",
    "We provide some skeleton code that you may use, but you may also come up with your own solution."
   ]
  },
  {
   "cell_type": "markdown",
   "id": "c01f8903",
   "metadata": {},
   "source": [
    "**Textual Response:**\n",
    "\n",
    "We selected the de Bruijn graph because it was easier to mentally visualize the paths between $(k-1)$-mers as being the the full $k$-mer (thereby having the last character being a direct path to the next $(k-1)$-mer) than the other way around (where the edge is made up of a combination of the nodes it lies between).  "
   ]
  },
  {
   "cell_type": "code",
   "execution_count": 106,
   "id": "ce47eb21",
   "metadata": {},
   "outputs": [],
   "source": [
    "# Read reads into graph\n",
    "# using de Bruijn graph; \n",
    "# prefix = first 7 (k-1) chars\n",
    "# suffix = last 7 (k-1) chars\n",
    "# if suffix(A) == prefix(B), edge A-->B \n",
    "\n",
    "def build_graph(k_mers):\n",
    "    edges = []\n",
    "    nodes = set()\n",
    "    graph = {}   # this is more for the extra credit portion; easier to check for divergence\n",
    "    \n",
    "    # Your code here\n",
    "    for i in k_mers:\n",
    "        # add prefix, suffix nodes (k-1)-mers\n",
    "        nodes.add(i[1:])\n",
    "        nodes.add(i[:-1])\n",
    "        \n",
    "        # edges = kmers\n",
    "        edges.append(i)\n",
    "        \n",
    "        # creating graph\n",
    "        if i[:-1] in graph:\n",
    "            graph[i[:-1]].append(i)   # append edge\n",
    "        else:\n",
    "            graph[i[:-1]] = [i]  # append edge\n",
    "    \n",
    "    \n",
    "    return nodes, edges, graph   # skeleton code says this is okay; o/w, make a graph\n",
    "\n",
    "nodes, edges, graph = build_graph(sequence_reads)"
   ]
  },
  {
   "cell_type": "code",
   "execution_count": 107,
   "id": "202a9a21",
   "metadata": {},
   "outputs": [],
   "source": [
    "# find Eulerian path\n",
    "import copy\n",
    "import random\n",
    "        \n",
    "def assemble_sequence(n, e, k=8):\n",
    "    # calculate start node\n",
    "    incoming_nodes = []\n",
    "    outgoing_nodes = []\n",
    "    for edges in e:\n",
    "        incoming_nodes.append(edges[:-1])\n",
    "        outgoing_nodes.append(edges[1:])\n",
    "    \n",
    "    start_node = \"\"\n",
    "    for i in incoming_nodes:\n",
    "        if i not in outgoing_nodes:\n",
    "            start_node = i\n",
    "    \n",
    "    # find eulerian path\n",
    "    # code here adapted from this pseudocode for euler: https://cp-algorithms.com/graph/euler_path.html#algorithm\n",
    "    # and this pseudocode for DFS: https://www.programiz.com/dsa/graph-dfs\n",
    "    stack = [start_node]\n",
    "    path = []\n",
    "        \n",
    "    while len(stack) != 0:\n",
    "        # end condition is n is of degree 0 / if there are no more outgoing nodes\n",
    "        end_edge = True\n",
    "        # following implements a DFS; goes to end of sequence as far as possible then builds up\n",
    "        for edge in e:\n",
    "            if edge[:(k-1)] == stack[-1]:\n",
    "                e.remove(edge)   # edge traversed\n",
    "                stack.append(edge[1:])   # check following node\n",
    "                end_edge = False   # means that this is not the end; continue\n",
    "                break\n",
    "        if end_edge:\n",
    "            path.insert(0, stack.pop(-1))   # append stack value to path\n",
    "    \n",
    "    # assemble actual sequence\n",
    "    final_sequence = start_node[:(k-2)]   # add first few chars from start node; start node not in eulerian path\n",
    "    for node in range(len(path)):\n",
    "        final_sequence += path[node][-1]   # should only differ by 1 char at end; append this value\n",
    "    \n",
    "    return final_sequence"
   ]
  },
  {
   "cell_type": "code",
   "execution_count": 108,
   "id": "76a22be3",
   "metadata": {},
   "outputs": [
    {
     "name": "stdout",
     "output_type": "stream",
     "text": [
      "300\n"
     ]
    },
    {
     "data": {
      "text/plain": [
       "'TACGCCAAATAGCAATGCGCAGGATAACAACTTATGTACTACATGTTGTTTCTCGTGCCCGCCAATGTCGAGAGATTTGTGCTATCGCAACCTAAGAGAGAAGGGGTTTTGTGTTAGCAGTTTCTTCATGCATCTCTTTACAAGAATTACAGGAGCCAAACACTCGCTGTCATGGTATCGACATATCGCTGCCCGGAGGCGCTATCGCAAACCGACTGTCGGACTCTTTCATGAGCAAAAAAAGTGGGAGTATGGTGCACATCCGCTATCGCTACTGGTGCCGCCCTTCGATGCAATGTT'"
      ]
     },
     "execution_count": 108,
     "metadata": {},
     "output_type": "execute_result"
    }
   ],
   "source": [
    "assembled_sequence = assemble_sequence(nodes, edges)\n",
    "print(len(assembled_sequence))\n",
    "assembled_sequence"
   ]
  },
  {
   "cell_type": "code",
   "execution_count": 109,
   "id": "b8bda8d0",
   "metadata": {},
   "outputs": [],
   "source": [
    "for n in sequence_reads:\n",
    "    if n not in assembled_sequence:\n",
    "        print(n)   # GENOME SEQUENCED!"
   ]
  },
  {
   "cell_type": "markdown",
   "id": "4f2aa9cd",
   "metadata": {},
   "source": [
    "Personal notes working through issues:\n",
    "\n",
    "Recursion through a dictionary that contained values of just outgoing k-mers or both incoming and outgoing k-mers in a list of lists. I also attempted to create a Eulerian cycle, which was successful (sometimes, if starting from a node other than the start node). The issue here is that the recursion traverses the end node before it's supposed to and removes it from the list, thereby ruining the order of nucleotides and resulting in more characters in the final solution. I was really struggling to fix this problem and deleted my notebook to start over with another method.\n",
    "\n",
    "Took a break, consulted https://cp-algorithms.com/graph/euler_path.html#algorithm, worked on DFS in AI and decided to integrate DFS and remove the conditional problem (the end node) by just starting there and working up."
   ]
  },
  {
   "cell_type": "markdown",
   "id": "9d5be948",
   "metadata": {},
   "source": [
    "## Question 2 - Sequencing SARS-CoV-2 virus"
   ]
  },
  {
   "cell_type": "markdown",
   "id": "1fe8dfd5",
   "metadata": {},
   "source": [
    "Let's move on from TeleTubbies to real-world organisms. Let's start small- with a variant of the SARS-CoV-2 virus. You're given reads from <i>actual</i> genome sequencing runs in the SARS-CoV2.fastq file provided.\n",
    "\n",
    "Repeat Question 1.3 on this data. You can re-use your implementation and simply run it on the new data. Print out your reconstructed sequence to a file \"output.txt\". For this part, we will still assume that all the reads are error-free. Set $k=25$."
   ]
  },
  {
   "cell_type": "code",
   "execution_count": 19,
   "id": "b4aa2959",
   "metadata": {},
   "outputs": [],
   "source": [
    "import sys\n",
    "sys.setrecursionlimit(2000)"
   ]
  },
  {
   "cell_type": "code",
   "execution_count": 20,
   "id": "cbea67e8",
   "metadata": {},
   "outputs": [],
   "source": [
    "# Read sequence reads\n",
    "sequence_reads_covid, qualities_covid = utils.read_fastq('SARS-CoV2.fastq')"
   ]
  },
  {
   "cell_type": "code",
   "execution_count": 21,
   "id": "032faf78",
   "metadata": {},
   "outputs": [],
   "source": [
    "# Read reads into graph\n",
    "cg_nodes, cg_edges, cg_graph = build_graph(sequence_reads_covid)"
   ]
  },
  {
   "cell_type": "code",
   "execution_count": 22,
   "id": "960a9df7",
   "metadata": {},
   "outputs": [],
   "source": [
    "# assemble sequence\n",
    "covid_path = assemble_sequence(cg_nodes, cg_edges, 25)"
   ]
  },
  {
   "cell_type": "code",
   "execution_count": 23,
   "id": "c96e0bd5",
   "metadata": {},
   "outputs": [],
   "source": [
    "# check assembly\n",
    "for n in sequence_reads_covid:\n",
    "    if n not in covid_path:\n",
    "        print(n)"
   ]
  },
  {
   "cell_type": "code",
   "execution_count": 24,
   "id": "27f965dc",
   "metadata": {},
   "outputs": [],
   "source": [
    "# Write assembled sequence to file\n",
    "\n",
    "assmebled_seq = covid_path # Use your assembled genome\n",
    "with open(\"covid_overlap.txt\", \"w\") as f:\n",
    "    f.write(assmebled_seq)"
   ]
  },
  {
   "cell_type": "markdown",
   "id": "c4eefed2",
   "metadata": {},
   "source": [
    "# Question 3- Error-Aware Assembly (Extra Credit)"
   ]
  },
  {
   "cell_type": "markdown",
   "id": "54434163",
   "metadata": {},
   "source": [
    "In the parts above, we assumed error-free reads while assembling $k$-mers. As much as we'd like that, actual reads can (and do) have errors, captured by their Phred scores. For this question, you're given raw, actual reads from sequencing runs (download reads here: https://sra-pub-sars-cov2.s3.amazonaws.com/sra-src/SRR11528307/ABS2-LN-R1_cleaned_paired.fastq.gz).  Given these reads and their Phred33 scores, can you assemble the genome?\n",
    "\n",
    "<b>Print out your assembled sequence, along with a brief explanation of how your algorithm works</b>\n",
    "\n",
    "This is an open-ended question. You are free to use any approach to deal with the issue. Make sure you provide your code, along with any assumptions you may have, in the cells below."
   ]
  },
  {
   "cell_type": "code",
   "execution_count": 110,
   "id": "31a0efe1",
   "metadata": {},
   "outputs": [],
   "source": [
    "# Issues: identify bubbles, distinguish bubbles from repeated/slightly differing reads that aren't erroneous\n",
    "\n",
    "# upload data\n",
    "\n",
    "error_reads, error_qualities = utils.read_fastq('/Users/amelianorman/Desktop/ABS2-LN-R1_cleaned_paired.fastq')"
   ]
  },
  {
   "cell_type": "code",
   "execution_count": null,
   "id": "2d0ede48",
   "metadata": {},
   "outputs": [],
   "source": [
    "# 1: create function that identifies a weak phred33 score (we'll say <30):\n",
    "def min_phred(sequence):\n",
    "    phred33 = []\n",
    "    # convert ASCII+33\n",
    "    for i in sequence:\n",
    "        phred33.append(ord(i)-33)\n",
    "    return min(phred33)   # returns minimum score instead of T/F so we can use as comparator\n",
    "    \n",
    "# 2: create function that identifies/resolves bubbles\n",
    "def resolve_bubbles(nodes, edges, graph):\n",
    "    # find divergence\n",
    "    # main source of confusion: finding bubbles that have sub-bubbles extending from them\n",
    "    for n in nodes:\n",
    "        if n in graph:\n",
    "            if len(graph[n]) > 1:\n",
    "                functional = False\n",
    "                while len(graph[n]) > 1 and not functional:   # repeat until there is only one path\n",
    "                    min_scores = {}\n",
    "                    for e in graph[n]:   # finds weakest nucleotide\n",
    "                        if e in edges:   # checks whether edge has already been removed\n",
    "                            min_scores[e] = min_phred(e)\n",
    "                        else:\n",
    "                            graph[n].remove(e)   # remove from dictionary otherwise\n",
    "                    min_edge = min(min_scores, key=min_scores.get)   # finds weakest nucleotide\n",
    "                    if min_scores[min_edge] < 30:   # if nucelotide is weak, remove edge\n",
    "                        # TODO\n",
    "                        # probably need to actually remove the entire chain extending from the nucleotide to reduce\n",
    "                        # computation\n",
    "                        graph[n].remove(min_edge)\n",
    "                        edges.remove(min_edge)\n",
    "                    else:\n",
    "                        functional = True\n",
    "        \n",
    "    return nodes, edges"
   ]
  },
  {
   "cell_type": "code",
   "execution_count": null,
   "id": "80106377",
   "metadata": {},
   "outputs": [],
   "source": [
    "# k=148\n",
    "# build graph\n",
    "err_nodes, err_edges, err_graph = build_graph(error_reads)"
   ]
  },
  {
   "cell_type": "code",
   "execution_count": null,
   "id": "0664a822",
   "metadata": {},
   "outputs": [],
   "source": [
    "# how many edges initially?\n",
    "print(len(err_edges))"
   ]
  },
  {
   "cell_type": "code",
   "execution_count": null,
   "id": "6764b3a3",
   "metadata": {},
   "outputs": [],
   "source": [
    "# resolve bubbles\n",
    "err_nodes1, err_edges1 = resolve_bubbles(err_nodes, err_edges, err_graph)"
   ]
  },
  {
   "cell_type": "code",
   "execution_count": null,
   "id": "3e54130a",
   "metadata": {},
   "outputs": [],
   "source": [
    "# how many edges after?\n",
    "print(len(err_edges1))"
   ]
  },
  {
   "cell_type": "code",
   "execution_count": null,
   "id": "142f1c10",
   "metadata": {},
   "outputs": [],
   "source": []
  }
 ],
 "metadata": {
  "kernelspec": {
   "display_name": "Python 3",
   "language": "python",
   "name": "python3"
  },
  "language_info": {
   "codemirror_mode": {
    "name": "ipython",
    "version": 3
   },
   "file_extension": ".py",
   "mimetype": "text/x-python",
   "name": "python",
   "nbconvert_exporter": "python",
   "pygments_lexer": "ipython3",
   "version": "3.8.8"
  }
 },
 "nbformat": 4,
 "nbformat_minor": 5
}
